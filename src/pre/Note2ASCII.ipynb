{
 "cells": [
  {
   "cell_type": "code",
   "execution_count": 1,
   "metadata": {
    "collapsed": true
   },
   "outputs": [],
   "source": [
    "from CONST import *\n",
    "import music21\n",
    "import glob"
   ]
  },
  {
   "cell_type": "code",
   "execution_count": 22,
   "metadata": {
    "collapsed": false
   },
   "outputs": [],
   "source": [
    "# Keep track of stats\n",
    "doct = {}"
   ]
  },
  {
   "cell_type": "code",
   "execution_count": 30,
   "metadata": {
    "collapsed": false
   },
   "outputs": [
    {
     "data": {
      "text/plain": [
       "25"
      ]
     },
     "execution_count": 30,
     "metadata": {},
     "output_type": "execute_result"
    }
   ],
   "source": [
    "# Convert files in directory\n",
    "files = glob.glob(\"TEST\\**\\*.mid\", recursive=True)\n",
    "len(files)"
   ]
  },
  {
   "cell_type": "code",
   "execution_count": 97,
   "metadata": {
    "collapsed": true
   },
   "outputs": [],
   "source": [
    "foct = {}"
   ]
  },
  {
   "cell_type": "code",
   "execution_count": 101,
   "metadata": {
    "collapsed": false
   },
   "outputs": [],
   "source": [
    "def analyzeFile(i):\n",
    "    f = files[i] \n",
    "\n",
    "    # first, transpose the entire score into C major or A minor\n",
    "    score = music21.converter.parse(f)\n",
    "    key = score.analyze('key')\n",
    "    mode = key.mode\n",
    "\n",
    "    if mode == \"major\":\n",
    "        halfSteps = majors[key.tonic.name]\n",
    "\n",
    "    elif mode == \"minor\":\n",
    "        halfSteps = minors[key.tonic.name]\n",
    "\n",
    "    newscore = score.transpose(halfSteps)\n",
    "\n",
    "    ### Now, print out score in our text format ###\n",
    "\n",
    "    # Major/Minor\n",
    "    print(mode)\n",
    "\n",
    "    # Print parts\n",
    "    for part in score.parts:\n",
    "        # Find most common note\n",
    "        l = [e.pitch for e in part.notes if e.isNote]\n",
    "        c = [e.pitches[0] for e in part.notes if e.isChord]\n",
    "        L = l+c\n",
    "\n",
    "        # somehow have no elements in this part...\n",
    "        if len(L) == 0:\n",
    "            return\n",
    "\n",
    "        m = max(set(L), key=L.count)\n",
    "\n",
    "        print(STARTCODE)\n",
    "        print(str(part.getInstrument()))\n",
    "\n",
    "        # case on the most common pitch\n",
    "        if m < music21.pitch.Pitch(MIDDLENOTE):\n",
    "            print(BASSMARK)\n",
    "        else:\n",
    "            print(SOPRANOMARK)\n",
    "\n",
    "        # prints out the notes\n",
    "        for e in part.notesAndRests:\n",
    "            d = \"{:0.3f}\".format(float(e.duration.quarterLength))\n",
    "\n",
    "            #if d in doct:\n",
    "            #    doct[d] += 1\n",
    "            #else:\n",
    "            #    doct[d] = 1\n",
    "            if e.isNote:\n",
    "                t = e.pitch.ps\n",
    "                if t in foct:\n",
    "                    foct[t] += 1\n",
    "                else:\n",
    "                    foct[t] = 1\n"
   ]
  },
  {
   "cell_type": "code",
   "execution_count": 102,
   "metadata": {
    "collapsed": true
   },
   "outputs": [
    {
     "name": "stdout",
     "output_type": "stream",
     "text": [
      "minor\n",
      "S\n",
      "Ocarina\n",
      "H\n",
      "S\n",
      "Piano\n",
      "L\n",
      "S\n",
      "Piano\n",
      "H\n",
      "major\n",
      "S\n",
      "Reed Organ\n",
      "L\n",
      "S\n",
      "Reed Organ\n",
      "H\n",
      "S\n",
      "Reed Organ\n",
      "H\n",
      "S\n",
      "Piano\n",
      "L\n",
      "S\n",
      "Piano\n",
      "H\n",
      "S\n",
      "Piano\n",
      "H\n",
      "S\n",
      "Flute\n",
      "L\n",
      "S\n",
      "Flute\n",
      "H\n",
      "S\n",
      "Flute\n",
      "H\n",
      "major\n",
      "S\n",
      "Oboe\n",
      "H\n",
      "S\n",
      "Piano\n",
      "H\n",
      "S\n",
      "Acoustic Bass\n",
      "L\n",
      "S\n",
      "Piano\n",
      "H\n",
      "S\n",
      "Piano\n",
      "H\n",
      "S\n",
      "Harp\n",
      "H\n",
      "major\n",
      "minor\n",
      "S\n",
      "Ocarina\n",
      "H\n",
      "S\n",
      "StringInstrument\n",
      "H\n",
      "S\n",
      "Harp\n",
      "H\n",
      "S\n",
      "Piano\n",
      "H\n",
      "major\n",
      "S\n",
      "Trombone\n",
      "H\n",
      "S\n",
      "Piano\n",
      "H\n",
      "S\n",
      "Piano\n",
      "H\n",
      "S\n",
      "Piano\n",
      "L\n",
      "minor\n",
      "S\n",
      "Trumpet\n",
      "H\n",
      "S\n",
      "Trumpet\n",
      "H\n",
      "S\n",
      "Fretless Bass\n",
      "L\n",
      "minor\n",
      "S\n",
      "Piano\n",
      "H\n",
      "S\n",
      "Piano\n",
      "H\n",
      "S\n",
      "Piano\n",
      "L\n",
      "major\n",
      "S\n",
      "Piano\n",
      "H\n",
      "S\n",
      "Piano\n",
      "L\n",
      "major\n",
      "S\n",
      "Piano\n",
      "H\n",
      "S\n",
      "Piano\n",
      "L\n"
     ]
    }
   ],
   "source": [
    "for i in range(10):\n",
    "    analyzeFile(i)"
   ]
  },
  {
   "cell_type": "code",
   "execution_count": 119,
   "metadata": {
    "collapsed": false,
    "scrolled": true
   },
   "outputs": [
    {
     "name": "stdout",
     "output_type": "stream",
     "text": [
      "12.0 107.0\n",
      "1\n"
     ]
    }
   ],
   "source": [
    "c = music21.pitch.Pitch('c0')\n",
    "d = music21.pitch.Pitch('b7')\n",
    "print(c.ps, d.ps)\n",
    "print(c.diatonicNoteNum)"
   ]
  },
  {
   "cell_type": "code",
   "execution_count": 54,
   "metadata": {
    "collapsed": false
   },
   "outputs": [],
   "source": [
    "L = []\n",
    "for key in sorted(doct.keys()):\n",
    "    L.append((float(key), int(doct[key])))"
   ]
  },
  {
   "cell_type": "code",
   "execution_count": 103,
   "metadata": {
    "collapsed": false,
    "scrolled": true
   },
   "outputs": [
    {
     "data": {
      "text/plain": [
       "{12: 2,\n",
       " 14: 2,\n",
       " 15: 5,\n",
       " 16: 11,\n",
       " 17: 15,\n",
       " 18: 20,\n",
       " 19: 112,\n",
       " 20: 45,\n",
       " 21: 68,\n",
       " 22: 332,\n",
       " 23: 194,\n",
       " 24: 93,\n",
       " 25: 159,\n",
       " 26: 402,\n",
       " 27: 135,\n",
       " 28: 103,\n",
       " 29: 241,\n",
       " 30: 123,\n",
       " 31: 231,\n",
       " 32: 154,\n",
       " 33: 218,\n",
       " 34: 114,\n",
       " 35: 116,\n",
       " 36: 124,\n",
       " 37: 81,\n",
       " 38: 73,\n",
       " 39: 63,\n",
       " 40: 92,\n",
       " 41: 72,\n",
       " 42: 41,\n",
       " 43: 131,\n",
       " 44: 37,\n",
       " 45: 49,\n",
       " 46.0: 20,\n",
       " 47: 51,\n",
       " 48: 321,\n",
       " 49: 19,\n",
       " 50: 200,\n",
       " 51: 14,\n",
       " 52.0: 81,\n",
       " 53.0: 125,\n",
       " 54: 35,\n",
       " 55.0: 370,\n",
       " 56.0: 32,\n",
       " 57.0: 135,\n",
       " 58.0: 29,\n",
       " 59.0: 74,\n",
       " 60.0: 231,\n",
       " 61.0: 10,\n",
       " 62.0: 123,\n",
       " 63.0: 6,\n",
       " 64.0: 223,\n",
       " 65.0: 87,\n",
       " 66.0: 67,\n",
       " 67.0: 184,\n",
       " 68.0: 34,\n",
       " 69.0: 112,\n",
       " 70.0: 8,\n",
       " 71.0: 108,\n",
       " 72.0: 119,\n",
       " 74.0: 81,\n",
       " 76.0: 62,\n",
       " 77.0: 38,\n",
       " 78.0: 24,\n",
       " 79.0: 74,\n",
       " 80.0: 4,\n",
       " 81.0: 54,\n",
       " 82.0: 3,\n",
       " 83.0: 36,\n",
       " 84.0: 37,\n",
       " 86.0: 19,\n",
       " 88.0: 4,\n",
       " 91.0: 3,\n",
       " 93.0: 2,\n",
       " 95.0: 6,\n",
       " 96.0: 6,\n",
       " 98.0: 2,\n",
       " 103.0: 1}"
      ]
     },
     "execution_count": 103,
     "metadata": {},
     "output_type": "execute_result"
    }
   ],
   "source": [
    "foct"
   ]
  },
  {
   "cell_type": "code",
   "execution_count": 56,
   "metadata": {
    "collapsed": true
   },
   "outputs": [
    {
     "data": {
      "text/plain": [
       "[(47.0, 1),\n",
       " (100.0, 1),\n",
       " (15.0, 2),\n",
       " (24.0, 2),\n",
       " (26.0, 2),\n",
       " (26.667, 2),\n",
       " (48.0, 2),\n",
       " (68.0, 2),\n",
       " (152.0, 2),\n",
       " (161.0, 2),\n",
       " (258.333, 2),\n",
       " (0.917, 4),\n",
       " (3.25, 4),\n",
       " (5.75, 4),\n",
       " (7.75, 4),\n",
       " (15.5, 4),\n",
       " (17.0, 4),\n",
       " (64.0, 4),\n",
       " (131.0, 6),\n",
       " (5.5, 8),\n",
       " (5.667, 8),\n",
       " (2.25, 10),\n",
       " (1.25, 12),\n",
       " (2.75, 12),\n",
       " (9.0, 14),\n",
       " (4.5, 16),\n",
       " (12.0, 20),\n",
       " (3.75, 22),\n",
       " (16.0, 22),\n",
       " (3.333, 36),\n",
       " (3.5, 36),\n",
       " (5.0, 39),\n",
       " (2.667, 40),\n",
       " (7.5, 44),\n",
       " (2.5, 46),\n",
       " (2.333, 68),\n",
       " (3.667, 70),\n",
       " (7.0, 70),\n",
       " (6.0, 79),\n",
       " (1.667, 80),\n",
       " (1.75, 104),\n",
       " (1.333, 210),\n",
       " (8.0, 216),\n",
       " (4.0, 228),\n",
       " (3.0, 505),\n",
       " (0.083, 520),\n",
       " (0.167, 586),\n",
       " (1.5, 662),\n",
       " (0.75, 694),\n",
       " (0.667, 1082),\n",
       " (2.0, 1449),\n",
       " (0.333, 1596),\n",
       " (1.0, 8148),\n",
       " (0.25, 10048),\n",
       " (0.5, 10976)]"
      ]
     },
     "execution_count": 56,
     "metadata": {},
     "output_type": "execute_result"
    }
   ],
   "source": [
    "L.sort(key=lambda x: x[1])\n",
    "L"
   ]
  },
  {
   "cell_type": "code",
   "execution_count": 59,
   "metadata": {
    "collapsed": false,
    "scrolled": true
   },
   "outputs": [
    {
     "data": {
      "text/plain": [
       "[(0.083, 520),\n",
       " (0.167, 586),\n",
       " (0.25, 10048),\n",
       " (0.333, 1596),\n",
       " (0.5, 10976),\n",
       " (0.667, 1082),\n",
       " (0.75, 694),\n",
       " (1.0, 8148),\n",
       " (1.333, 210),\n",
       " (1.5, 662),\n",
       " (1.75, 104),\n",
       " (2.0, 1449),\n",
       " (3.0, 505),\n",
       " (4.0, 228),\n",
       " (8.0, 216)]"
      ]
     },
     "execution_count": 59,
     "metadata": {},
     "output_type": "execute_result"
    }
   ],
   "source": [
    "A = [(1.75, 104),\n",
    " (1.333, 210),\n",
    " (8.0, 216),\n",
    " (4.0, 228),\n",
    " (3.0, 505),\n",
    " (0.083, 520),\n",
    " (0.167, 586),\n",
    " (1.5, 662),\n",
    " (0.75, 694),\n",
    " (0.667, 1082),\n",
    " (2.0, 1449),\n",
    " (0.333, 1596),\n",
    " (1.0, 8148),\n",
    " (0.25, 10048),\n",
    " (0.5, 10976)]\n",
    "\n",
    "A.sort(key=lambda x: x[0])\n",
    "A"
   ]
  }
 ],
 "metadata": {
  "kernelspec": {
   "display_name": "Python 3",
   "language": "python",
   "name": "python3"
  },
  "language_info": {
   "codemirror_mode": {
    "name": "ipython",
    "version": 3
   },
   "file_extension": ".py",
   "mimetype": "text/x-python",
   "name": "python",
   "nbconvert_exporter": "python",
   "pygments_lexer": "ipython3",
   "version": "3.6.0"
  }
 },
 "nbformat": 4,
 "nbformat_minor": 2
}
