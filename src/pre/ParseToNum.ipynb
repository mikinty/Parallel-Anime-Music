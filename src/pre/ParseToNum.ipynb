{
 "cells": [
  {
   "cell_type": "code",
   "execution_count": 1,
   "metadata": {
    "collapsed": true
   },
   "outputs": [],
   "source": [
    "from CONST import *\n",
    "import music21\n",
    "import glob"
   ]
  },
  {
   "cell_type": "code",
   "execution_count": 2,
   "metadata": {
    "collapsed": false
   },
   "outputs": [
    {
     "data": {
      "text/plain": [
       "25"
      ]
     },
     "execution_count": 2,
     "metadata": {},
     "output_type": "execute_result"
    }
   ],
   "source": [
    "# Convert files in directory\n",
    "files = glob.glob(\"TEST\\**\\*.mid\", recursive=True)\n",
    "len(files)"
   ]
  },
  {
   "cell_type": "code",
   "execution_count": 7,
   "metadata": {
    "collapsed": false
   },
   "outputs": [],
   "source": [
    "def analyzeFile(i):\n",
    "    f = files[i] \n",
    "\n",
    "    # first, transpose the entire score into C major or A minor\n",
    "    score = music21.converter.parse(f)\n",
    "    key = score.analyze('key')\n",
    "    mode = key.mode\n",
    "\n",
    "    if mode == \"major\":\n",
    "        halfSteps = majors[key.tonic.name]\n",
    "\n",
    "    elif mode == \"minor\":\n",
    "        halfSteps = minors[key.tonic.name]\n",
    "\n",
    "    newscore = score.transpose(halfSteps)\n",
    "\n",
    "    ### Now, print out score in our text format ###\n",
    "\n",
    "    # Major/Minor\n",
    "    print(mode)\n",
    "\n",
    "    # Print parts\n",
    "    for part in score.parts:\n",
    "        # Find most common note\n",
    "        l = [e.pitch for e in part.notes if e.isNote]\n",
    "        c = [e.pitches[0] for e in part.notes if e.isChord]\n",
    "        L = l+c\n",
    "\n",
    "        # somehow have no elements in this part...\n",
    "        if len(L) == 0:\n",
    "            return\n",
    "\n",
    "        m = max(set(L), key=L.count)\n",
    "\n",
    "        print(START_CODE)\n",
    "\n",
    "        # case on the most common pitch\n",
    "        if m < music21.pitch.Pitch(MIDDLENOTE):\n",
    "            print(BASS_MARK)\n",
    "        else:\n",
    "            print(SOPRANO_MARK)\n",
    "\n",
    "        # prints out the notes\n",
    "        for e in part.notesAndRests:\n",
    "            d = float(e.duration.quarterLength)\n",
    "            \n",
    "            # identify the closest note length according to our defined durations\n",
    "            d = NOTE_DURATIONS.index(min(NOTE_DURATIONS, key=lambda x:abs(x-d)))\n",
    "            \n",
    "            # CHORD. Encoded in base 12.\n",
    "            if e.isChord:\n",
    "                tempLen = min(3, len(e.pitches))\n",
    "                \n",
    "                n = 0\n",
    "                \n",
    "                notes = []\n",
    "                \n",
    "                for i in range(0, tempLen):\n",
    "                    currNote = e.pitches[i]\n",
    "                    \n",
    "                    notes.append(int(currNote.ps))\n",
    "                    \n",
    "                # sort from lowest to highest\n",
    "                notes.sort()\n",
    "                \n",
    "                for i in range(0, tempLen):\n",
    "                    n += (notes[i] % OCTAVE_RANGE) * pow(OCTAVE_RANGE, i)\n",
    "            \n",
    "                # we MUST offset in order to account for notes and rests\n",
    "                n += CHORD_OFFSET\n",
    "                \n",
    "            # NOTE. Encoded from 0 (c0) to 95 (b7)\n",
    "            elif e.isNote:\n",
    "                n = int(e.pitch.ps) - LOWEST_NOTE_OFFSET\n",
    "                \n",
    "                if n < 0:\n",
    "                    n = n % NOTE_RANGE\n",
    "                elif n >= NOTE_RANGE:\n",
    "                    n = n % OCTAVE_RANGE + HIGHEST_C\n",
    "                \n",
    "            # REST. Just a special rest marker\n",
    "            else:\n",
    "                n = REST_NUM\n",
    "                \n",
    "            print(\"{0} {1}\".format(n, d))\n",
    "                \n",
    "        print(END_CODE)"
   ]
  },
  {
   "cell_type": "code",
   "execution_count": 12,
   "metadata": {
    "collapsed": false
   },
   "outputs": [
    {
     "name": "stdout",
     "output_type": "stream",
     "text": [
      "major\n",
      "S\n",
      "H\n",
      "64 6\n",
      "59 5\n",
      "56 5\n",
      "64 5\n",
      "59 5\n",
      "56 5\n",
      "64 13\n",
      "65 6\n",
      "60 5\n",
      "57 5\n",
      "65 5\n",
      "60 5\n",
      "57 5\n",
      "65 13\n",
      "67 6\n",
      "62 5\n",
      "59 5\n",
      "67 5\n",
      "62 5\n",
      "59 5\n",
      "67 11\n",
      "69 5\n",
      "69 5\n",
      "100 5\n",
      "71 13\n",
      "E\n",
      "S\n",
      "L\n",
      "200 13\n",
      "200 7\n",
      "200 4\n",
      "200 4\n",
      "200 5\n",
      "200 5\n",
      "100 5\n",
      "213 13\n",
      "213 7\n",
      "213 4\n",
      "213 4\n",
      "213 5\n",
      "213 5\n",
      "100 5\n",
      "239 5\n",
      "186 5\n",
      "47 5\n",
      "239 5\n",
      "186 5\n",
      "47 5\n",
      "239 7\n",
      "239 4\n",
      "239 4\n",
      "121 5\n",
      "121 5\n",
      "100 5\n",
      "147 13\n",
      "E\n"
     ]
    }
   ],
   "source": [
    "analyzeFile(9)"
   ]
  }
 ],
 "metadata": {
  "kernelspec": {
   "display_name": "Python 3",
   "language": "python",
   "name": "python3"
  },
  "language_info": {
   "codemirror_mode": {
    "name": "ipython",
    "version": 3
   },
   "file_extension": ".py",
   "mimetype": "text/x-python",
   "name": "python",
   "nbconvert_exporter": "python",
   "pygments_lexer": "ipython3",
   "version": "3.6.0"
  }
 },
 "nbformat": 4,
 "nbformat_minor": 2
}
